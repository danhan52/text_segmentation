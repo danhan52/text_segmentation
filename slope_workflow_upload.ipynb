{
 "cells": [
  {
   "cell_type": "code",
   "execution_count": 1,
   "metadata": {
    "collapsed": true
   },
   "outputs": [],
   "source": [
    "# load necessary libraries\n",
    "import numpy as np\n",
    "from scipy import ndimage\n",
    "from scipy import misc\n",
    "from scipy import stats\n",
    "from scipy.ndimage.filters import gaussian_filter as gf\n",
    "\n",
    "import matplotlib.pyplot as plt\n",
    "import matplotlib as mpl\n",
    "from matplotlib.patches import Rectangle as Rec\n",
    "\n",
    "from skimage import filters\n",
    "from skimage import transform as tf\n",
    "\n",
    "import csv\n",
    "import json\n",
    "import random\n",
    "import urllib\n",
    "import cStringIO\n",
    "# import cv2\n",
    "from PIL import Image\n",
    "\n",
    "import sys, os\n",
    "import numpy as np\n",
    "import pandas as pd\n",
    "#import matplotlib.pyplot as plt\n",
    "import json\n",
    "from datetime import datetime\n",
    "\n",
    "from projEdgeBreaks import *\n",
    "from imageModifiers import *\n",
    "from saveImages import *\n",
    "from plottingFuncs import *\n",
    "\n",
    "# change plot size\n",
    "mpl.rcParams[\"figure.figsize\"] = (15, 15)"
   ]
  },
  {
   "cell_type": "markdown",
   "metadata": {},
   "source": [
    "# DCW images"
   ]
  },
  {
   "cell_type": "code",
   "execution_count": 2,
   "metadata": {
    "collapsed": true
   },
   "outputs": [],
   "source": [
    "subjFile = \"data/decoding-the-civil-war-subjects-9-29-17.csv\"\n",
    "subj = pd.read_csv(subjFile)\n",
    "# get only the workflow from the live project\n",
    "subj = subj[subj['workflow_id'] == 1874]\n",
    "\n",
    "# get metadata in dictionary format\n",
    "subj[\"meta_json\"] = [json.loads(q) for q in subj[\"metadata\"]]\n",
    "# get hdl_id from metadata\n",
    "subj[\"hdl_id\"] = [q.get(\"hdl_id\", \"mssF\") for q in subj[\"meta_json\"]]\n",
    "# get image url\n",
    "subj[\"url\"] = [json.loads(q).get(\"0\") for q in subj[\"locations\"]]\n",
    "\n",
    "# remove images without ids\n",
    "subj = subj[subj[\"hdl_id\"] != \"mssF\"]\n",
    "# remove codebook images (mssEC_36-67)\n",
    "filt = subj[\"hdl_id\"].str.contains(\"mssEC_3[6-9]|[4-6][0-9]\")\n",
    "subj = subj[~filt]\n",
    "# remove ledgers that seemed weird (only easy stuff for now)\n",
    "filt = subj[\"hdl_id\"].str.contains(\"mssEC_3[0-3]|2[6-9]\")\n",
    "subj = subj[~filt]\n",
    "# remove the first few pages because they tended to be blank\n",
    "filt = subj[\"hdl_id\"].str.contains(\"mssEC_\\d\\d_00[1-6]\")\n",
    "subj = subj[~filt]"
   ]
  },
  {
   "cell_type": "code",
   "execution_count": 3,
   "metadata": {
    "collapsed": false
   },
   "outputs": [],
   "source": [
    "# get random sample of images (from set seed for reproducibility)\n",
    "random.seed(53)\n",
    "picLocs = np.sort(random.sample(list(range(len(subj))), 50))\n",
    "subjSamp = subj.iloc[picLocs]"
   ]
  },
  {
   "cell_type": "code",
   "execution_count": 5,
   "metadata": {
    "collapsed": false
   },
   "outputs": [],
   "source": [
    "# save images locally so I can take a quick peek\n",
    "for i in range(len(subjSamp)):\n",
    "    fn1 = subjSamp[\"url\"].iloc[i]\n",
    "    tf = \"DCW_images/\"\n",
    "    fn2 = subjSamp[\"subject_id\"].iloc[i]\n",
    "    readAndSave(fn1, tf, fn2)"
   ]
  },
  {
   "cell_type": "code",
   "execution_count": 6,
   "metadata": {
    "collapsed": false
   },
   "outputs": [],
   "source": [
    "# create manifest files\n",
    "cols = list(subjSamp.keys())\n",
    "cols.append(\"row_loc\")\n",
    "cols.append(\"imgLoc\")\n",
    "\n",
    "manifest1 = \"DCW_slope_splits1/myManifest.csv\"\n",
    "with open(manifest1, \"w\") as f:\n",
    "    writeit = csv.writer(f)\n",
    "    writeit.writerow(cols)\n",
    "\n",
    "manifest2 = \"DCW_slope_splits1/manifest.csv\"\n",
    "cols = [\"subject_id_orig\", \"hdl_id\", \"origin\", \"telegrams\", \"row_loc\", \n",
    "        \"img_loc\"]\n",
    "with open(manifest2, \"w\") as f:\n",
    "    writeit = csv.writer(f)\n",
    "    writeit.writerow(cols)\n",
    "\n",
    "# create all images\n",
    "for i in range(len(subjSamp)):\n",
    "    fname = subjSamp[\"url\"].iloc[i]\n",
    "\n",
    "    # read in and do all pre-processing #################################\n",
    "    let, grey = readImg(fname, plotIt=False)\n",
    "    let, grey = removeEdges(let, grey, rmThresh=0)\n",
    "    grey = whitenEdgesFilter(grey)\n",
    "    greyBi = binarizeImg(grey, biThresh=\"otsu\", plotIt=False)\n",
    "    greySm = smoothImg(grey, smoothSigma=5.0, plotIt=False)\n",
    "\n",
    "    # get linebreaks ####################################################\n",
    "    lb = projBreaks(greySm, \"y\")\n",
    "    # plotBoxes(let, lb)\n",
    "    saveLinesdc(img=let, lb=lb, rw=subjSamp.iloc[i],\n",
    "                folder=\"DCW_slope_splits1/\", manifest1 = manifest1,\n",
    "                manifest2 = manifest2, prefix = subjSamp[\"hdl_id\"].iloc[i],\n",
    "                lines = 4)"
   ]
  },
  {
   "cell_type": "markdown",
   "metadata": {},
   "source": [
    "# BPL images"
   ]
  },
  {
   "cell_type": "code",
   "execution_count": 7,
   "metadata": {
    "collapsed": false
   },
   "outputs": [],
   "source": [
    "subjFile = \"data/anti-slavery-manuscripts-subjects.csv\"\n",
    "subj = pd.read_csv(subjFile)\n",
    "\n",
    "# get metadata in dictionary format\n",
    "subj[\"meta_json\"] = [json.loads(q) for q in subj[\"metadata\"]]\n",
    "\n",
    "# get image url\n",
    "subj[\"url\"] = [json.loads(q).get(\"0\") for q in subj[\"locations\"]]"
   ]
  },
  {
   "cell_type": "code",
   "execution_count": 8,
   "metadata": {
    "collapsed": false
   },
   "outputs": [],
   "source": [
    "# get random sample of images (from set seed for reproducibility)\n",
    "random.seed(53)\n",
    "picLocs = np.sort(random.sample(list(range(len(subj))), 50))\n",
    "subjSamp = subj.iloc[picLocs]"
   ]
  },
  {
   "cell_type": "code",
   "execution_count": 9,
   "metadata": {
    "collapsed": false
   },
   "outputs": [],
   "source": [
    "# save images locally so I can take a quick peek\n",
    "for i in range(len(subjSamp)):\n",
    "    fn1 = subjSamp[\"url\"].iloc[i]\n",
    "    tf = \"BPL_images/\"\n",
    "    fn2 = subjSamp[\"subject_id\"].iloc[i]\n",
    "    readAndSave(fn1, tf, fn2)"
   ]
  },
  {
   "cell_type": "code",
   "execution_count": 10,
   "metadata": {
    "collapsed": false,
    "scrolled": true
   },
   "outputs": [],
   "source": [
    "# create manifest files\n",
    "cols = list(subjSamp.keys())\n",
    "cols.append(\"row_loc\")\n",
    "cols.append(\"imgLoc\")\n",
    "\n",
    "manifest1 = \"BPL_slope_splits1/myManifest.csv\"\n",
    "with open(manifest1, \"w\") as f:\n",
    "    writeit = csv.writer(f)\n",
    "    writeit.writerow(cols)\n",
    "\n",
    "manifest2 = \"BPL_slope_splits1/manifest.csv\"\n",
    "cols = [\"subject_id_orig\", \"creator\", \"row_loc\", \"img_loc\"]\n",
    "with open(manifest2, \"w\") as f:\n",
    "    writeit = csv.writer(f)\n",
    "    writeit.writerow(cols)\n",
    "\n",
    "# create all images\n",
    "for i in range(len(subjSamp)):\n",
    "    fname = subjSamp[\"url\"].iloc[i]\n",
    "\n",
    "    # read in and do all pre-processing #################################\n",
    "    let, grey = readImg(fname, plotIt=False)\n",
    "    let, grey = removeEdges(let, grey, rmThresh=0)\n",
    "    grey = whitenEdgesFilter(grey)\n",
    "    greyBi = binarizeImg(grey, biThresh=\"otsu\", plotIt=False)\n",
    "    greySm = smoothImg(grey, smoothSigma=7.0, plotIt=False)\n",
    "\n",
    "    # get linebreaks ####################################################\n",
    "    lb = projBreaks(greySm, \"y\")\n",
    "#     plotBoxes(let, lb)\n",
    "    saveLinesbp(img=let, lb=lb, rw=subjSamp.iloc[i],\n",
    "                folder=\"BPL_slope_splits1/\", manifest1 = manifest1,\n",
    "                manifest2 = manifest2,\n",
    "                prefix = \"a\" + str(subjSamp[\"subject_id\"].iloc[i]),\n",
    "                lines = 4)"
   ]
  }
 ],
 "metadata": {
  "anaconda-cloud": {},
  "kernelspec": {
   "display_name": "Python [conda root]",
   "language": "python",
   "name": "conda-root-py"
  },
  "language_info": {
   "codemirror_mode": {
    "name": "ipython",
    "version": 2
   },
   "file_extension": ".py",
   "mimetype": "text/x-python",
   "name": "python",
   "nbconvert_exporter": "python",
   "pygments_lexer": "ipython2",
   "version": "2.7.12"
  }
 },
 "nbformat": 4,
 "nbformat_minor": 2
}
