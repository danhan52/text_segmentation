{
 "cells": [
  {
   "cell_type": "code",
   "execution_count": 1,
   "metadata": {
    "collapsed": true
   },
   "outputs": [],
   "source": [
    "# load necessary libraries\n",
    "import numpy as np\n",
    "import pandas as pd\n",
    "import matplotlib as mpl\n",
    "import matplotlib.pyplot as plt\n",
    "\n",
    "import json\n",
    "import pickle\n",
    "import glob\n",
    "\n",
    "from readImages import *\n",
    "from imageModifiers import *\n",
    "from readDataFiles import *\n",
    "from projEdgeBreaks import *\n",
    "from gaussBreaks import *\n",
    "from saveImages import *\n",
    "from plottingFuncs import *\n",
    "\n",
    "# change pandas parameter\n",
    "pd.options.mode.chained_assignment = None\n",
    "# change plot size\n",
    "mpl.rcParams[\"figure.figsize\"] = (15, 15)"
   ]
  },
  {
   "cell_type": "markdown",
   "metadata": {},
   "source": [
    "## Read data files\n",
    "Subject file, classification export, and data from experiment"
   ]
  },
  {
   "cell_type": "code",
   "execution_count": 2,
   "metadata": {},
   "outputs": [],
   "source": [
    "subjFile = \"data/decoding-the-civil-war-subjects-9-29-17.csv\"\n",
    "clFile = 'data/letter-slope-classifications_10nov2017.csv'\n",
    "experimentFile = \"accuracy.pkl\"\n",
    "\n",
    "consensusFolder = \"C:/Users/danny/Repos/text_segmentation/consensus/consensus/\"\n",
    "# consensusFile = consensusFolder + \"decoding-the-civil-war-consensus-linewise_{mss_label}.csv\"\n",
    "consensusCsvFiles = glob.glob('{}/*.csv'.format(consensusFolder))\n",
    "consensusCsvFiles = [i for i in consensusCsvFiles if \"linewise\" in i]\n",
    "\n",
    "# subject file\n",
    "subj = readSubjFile(subjFile)\n",
    "# classification export\n",
    "clExp = readSlopeClassification(clFile)\n",
    "\n",
    "# experiment data\n",
    "with open(experimentFile, \"rb\") as f:\n",
    "    data = pickle.load(f)"
   ]
  },
  {
   "cell_type": "code",
   "execution_count": 3,
   "metadata": {},
   "outputs": [],
   "source": [
    "hdl_id = \"mssEC_02_007\"\n",
    "there = np.where(subj[\"hdl_id\"] == hdl_id)[0][0]\n",
    "url = subj.iloc[there][\"url\"]\n",
    "thisn = data[hdl_id]\n",
    "segments = thisn[\"segment_results\"]\n",
    "let, grey = readImg(url)\n",
    "\n",
    "nuOpt = np.arange(0.5, 6.5, 0.5) # 0.5:6.5\n",
    "biOpt = list(range(1, 10)) # 1:10"
   ]
  },
  {
   "cell_type": "code",
   "execution_count": 4,
   "metadata": {
    "collapsed": true
   },
   "outputs": [],
   "source": [
    "nuOpt = [3.5]\n",
    "biOpt = [2]"
   ]
  },
  {
   "cell_type": "code",
   "execution_count": 5,
   "metadata": {},
   "outputs": [],
   "source": [
    "# get best one\n",
    "most = np.inf\n",
    "mind = (0,0)\n",
    "for nu in nuOpt:\n",
    "    for bi in biOpt:\n",
    "        bi2 = list(segments['biThresh'] == bi)\n",
    "        nu2 = list(segments['nu'] == nu)\n",
    "        getm = [bi2[i] and nu2[i] for i in range(len(segments))]\n",
    "        tmp = segments.loc[getm]\n",
    "        wrong = np.sum(tmp['n_words_gauss']-2 != tmp['n_words_cons']) * 1.0/ len(tmp)\n",
    "#         print(wrong, end = \" \")\n",
    "        if wrong < most:\n",
    "            most = wrong\n",
    "            mind = (nu, bi)"
   ]
  }
 ],
 "metadata": {
  "kernelspec": {
   "display_name": "Python 3",
   "language": "python",
   "name": "python3"
  },
  "language_info": {
   "codemirror_mode": {
    "name": "ipython",
    "version": 3
   },
   "file_extension": ".py",
   "mimetype": "text/x-python",
   "name": "python",
   "nbconvert_exporter": "python",
   "pygments_lexer": "ipython3",
   "version": "3.6.1"
  }
 },
 "nbformat": 4,
 "nbformat_minor": 2
}
