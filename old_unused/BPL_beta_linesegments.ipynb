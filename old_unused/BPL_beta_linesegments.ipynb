{
 "cells": [
  {
   "cell_type": "code",
   "execution_count": 1,
   "metadata": {
    "collapsed": true
   },
   "outputs": [],
   "source": [
    "import numpy as np\n",
    "import pandas as pd\n",
    "import matplotlib as mpl\n",
    "import matplotlib.pyplot as plt\n",
    "import json\n",
    "from scipy import ndimage\n",
    "\n",
    "\n",
    "from readImages import *\n",
    "from imageModifiers import *\n",
    "from readDataFiles import *\n",
    "from projEdgeBreaks import *\n",
    "from gaussBreaks import *\n",
    "from saveImages import *\n",
    "from plottingFuncs import *\n",
    "from gap_metric_breaks import *"
   ]
  },
  {
   "cell_type": "code",
   "execution_count": 2,
   "metadata": {},
   "outputs": [
    {
     "data": {
      "text/plain": [
       "11"
      ]
     },
     "execution_count": 2,
     "metadata": {},
     "output_type": "execute_result"
    }
   ],
   "source": [
    "mpl.rcParams[\"figure.figsize\"] = (15, 15)\n",
    "# %matplotlib inline\n",
    "\n",
    "subjFile = \"data/anti-slavery-manuscripts-subjects.csv\"\n",
    "subj = pd.read_csv(subjFile)\n",
    "\n",
    "# get metadata in dictionary format\n",
    "subj[\"meta_json\"] = [json.loads(q) for q in subj[\"metadata\"]]\n",
    "\n",
    "# get image url\n",
    "subj[\"url\"] = [json.loads(q).get(\"0\") for q in subj[\"locations\"]]\n",
    "\n",
    "# get beta images\n",
    "subj_beta = subj.loc[subj[\"subject_set_id\"] == 16451]\n",
    "subj_beta = subj_beta.drop_duplicates([\"subject_id\", \"locations\"])\n",
    "len(subj_beta)"
   ]
  },
  {
   "cell_type": "code",
   "execution_count": 3,
   "metadata": {},
   "outputs": [],
   "source": [
    "def extractor(val):\n",
    "    v_dict = val[\"meta_json\"]\n",
    "    v_dict[\"locations\"] = json.loads(val[\"locations\"])\n",
    "    return v_dict\n",
    "dct = {key: extractor(val) for (key, val) in subj_beta.iterrows()}\n",
    "new_subj = pd.DataFrame(dct).T"
   ]
  },
  {
   "cell_type": "code",
   "execution_count": 4,
   "metadata": {},
   "outputs": [
    {
     "name": "stdout",
     "output_type": "stream",
     "text": [
      "08_07_024411.jpg\n",
      "08_07_024412.jpg\n",
      "08_07_024413.jpg\n",
      "08_07_024414.jpg\n",
      "08_07_011974.jpg\n",
      "08_07_011975.jpg\n",
      "08_07_011976.jpg\n",
      "08_07_011977.jpg\n",
      "39999066759711_0001.jpg\n",
      "39999066759711_0002.jpg\n",
      "39999086045471_0001.jpg\n",
      "39999086045471_0002.jpg\n",
      "39999032919225_0001.jpg\n",
      "39999032919225_0002.jpg\n",
      "39999032919225_0003.jpg\n",
      "39999032919225_0004.jpg\n",
      "08_07_008974.jpg\n",
      "08_07_008975.jpg\n",
      "39999085441424_0001.jpg\n",
      "39999085441424_0002.jpg\n",
      "39999085441507_0001.jpg\n",
      "39999085441507_0002.jpg\n",
      "39999063804296_0001.jpg\n",
      "39999063804296_0002.jpg\n",
      "39999063804296_0003.jpg\n",
      "39999063804296_0004.jpg\n",
      "08_07_027970.jpg\n",
      "08_07_027971.jpg\n",
      "08_07_027972.jpg\n",
      "08_07_027973.jpg\n",
      "39999063803413_0001.jpg\n",
      "39999063803413_0002.jpg\n",
      "39999063803413_0003.jpg\n",
      "39999063803413_0004.jpg\n"
     ]
    }
   ],
   "source": [
    "collist = [\"#id_local_barcode\", \"#id_local_call\", \"#repository_id\", \"creators\", \"date\", \"title\"]\n",
    "cols = \"\\t\".join(collist)\n",
    "with open(\"example_img/manifest.tsv\", \"w\") as f:\n",
    "    f.write(\"image\\t{0}\\n\".format(cols))\n",
    "    for i in range(len(new_subj)):\n",
    "        for k in new_subj[\"locations\"].iloc[i].keys():\n",
    "            # read in and do all pre-processing #################################\n",
    "            let_orig, grey_orig = readImg(new_subj[\"locations\"].iloc[i][k])\n",
    "            grey, let, offset = removeEdges(grey_orig, let_orig, 10.0)\n",
    "\n",
    "            # get linebreaks ####################################################\n",
    "            greySm = smoothImg(grey, 7.0)\n",
    "            matchlim = 30\n",
    "            lb = projBreaks(greySm, \"y\")\n",
    "            lb = filterBreaks(lb, matchlim)\n",
    "            im_nm = \"image\" + str(int(k)+1)\n",
    "            im_nm2 = new_subj[im_nm].iloc[i]\n",
    "            print(im_nm2)\n",
    "            plotBoxes(let_orig, lb+offset[0], saveFile= \"example_img/\"+im_nm2)\n",
    "            ln = \"\\t\".join(list(new_subj[collist].iloc[i]))\n",
    "            f.write(im_nm2 + \"\\t\" + ln + \"\\n\")"
   ]
  }
 ],
 "metadata": {
  "kernelspec": {
   "display_name": "Python 3",
   "language": "python",
   "name": "python3"
  },
  "language_info": {
   "codemirror_mode": {
    "name": "ipython",
    "version": 3
   },
   "file_extension": ".py",
   "mimetype": "text/x-python",
   "name": "python",
   "nbconvert_exporter": "python",
   "pygments_lexer": "ipython3",
   "version": "3.6.1"
  }
 },
 "nbformat": 4,
 "nbformat_minor": 2
}
