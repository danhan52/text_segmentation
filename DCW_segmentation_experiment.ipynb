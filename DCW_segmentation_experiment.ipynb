{
 "cells": [
  {
   "cell_type": "code",
   "execution_count": 1,
   "metadata": {},
   "outputs": [],
   "source": [
    "# load necessary libraries\n",
    "import numpy as np\n",
    "from scipy import ndimage\n",
    "from scipy import misc\n",
    "from scipy import stats\n",
    "from scipy.ndimage.filters import gaussian_filter as gf\n",
    "\n",
    "import matplotlib.pyplot as plt\n",
    "import matplotlib as mpl\n",
    "from matplotlib.patches import Rectangle as Rec\n",
    "\n",
    "from skimage import filters\n",
    "from skimage import transform as tf\n",
    "\n",
    "import csv\n",
    "import json\n",
    "import random\n",
    "import urllib\n",
    "from PIL import Image\n",
    "\n",
    "import sys, os\n",
    "import pandas as pd\n",
    "import pickle\n",
    "from datetime import datetime\n",
    "\n",
    "from projEdgeBreaks import *\n",
    "from imageModifiers import *\n",
    "from saveImages import *\n",
    "from plottingFuncs import *\n",
    "\n",
    "# change plot size\n",
    "mpl.rcParams[\"figure.figsize\"] = (15, 15)"
   ]
  },
  {
   "cell_type": "markdown",
   "metadata": {},
   "source": [
    "## Specify file and folder locations"
   ]
  },
  {
   "cell_type": "code",
   "execution_count": 2,
   "metadata": {
    "collapsed": true
   },
   "outputs": [],
   "source": [
    "consensusFolder = \"C:/Users/danny/Repos/text_segmentation/consensus/consensus/\"\n",
    "consensusFile = consensusFolder + \"decoding-the-civil-war-consensus-linewise_{mss_label}.csv\"\n",
    "lineInfo = consensusFolder + \"dataWithLineIDs_subset_{mss_label}.pkl\"\n",
    "subjFile = \"data/decoding-the-civil-war-subjects-9-29-17.csv\""
   ]
  },
  {
   "cell_type": "markdown",
   "metadata": {},
   "source": [
    "## This will late be in a loop - get hdl_id"
   ]
  },
  {
   "cell_type": "code",
   "execution_count": 3,
   "metadata": {},
   "outputs": [],
   "source": [
    "# mssLabel = sampleDataFileName.split('/')[-1][len(\n",
    "#     'classification_export_'):-4]\n",
    "mssLabel = \"fication_export_mssEC_02_05_25_17\"\n",
    "consensusFile = consensusFile.format(mss_label=mssLabel)\n",
    "lineInfo = lineInfo.format(mss_label=mssLabel) "
   ]
  },
  {
   "cell_type": "markdown",
   "metadata": {},
   "source": [
    "### Read data files"
   ]
  },
  {
   "cell_type": "code",
   "execution_count": 4,
   "metadata": {
    "collapsed": true
   },
   "outputs": [],
   "source": [
    "# subject file\n",
    "subj = pd.read_csv(subjFile)\n",
    "# get only the workflow from the live project\n",
    "subj = subj[subj['workflow_id'] == 1874]\n",
    "\n",
    "# get metadata in dictionary format\n",
    "subj[\"meta_json\"] = [json.loads(q) for q in subj[\"metadata\"]]\n",
    "# get hdl_id from metadata\n",
    "subj[\"hdl_id\"] = [q.get(\"hdl_id\", \"mssF\") for q in subj[\"meta_json\"]]\n",
    "# get image url\n",
    "subj[\"url\"] = [json.loads(q).get(\"0\") for q in subj[\"locations\"]]\n",
    "\n",
    "# remove images without ids\n",
    "subj = subj[subj[\"hdl_id\"] != \"mssF\"]\n",
    "# remove codebook images (mssEC_36-67)\n",
    "filt = subj[\"hdl_id\"].str.contains(\"mssEC_3[6-9]|[4-6][0-9]\")\n",
    "subj = subj[~filt]\n",
    "# remove ledgers that seemed weird (only easy stuff for now)\n",
    "filt = subj[\"hdl_id\"].str.contains(\"mssEC_3[0-3]|2[6-9]\")\n",
    "subj = subj[~filt]\n",
    "# remove the first few pages because they tended to be blank\n",
    "filt = subj[\"hdl_id\"].str.contains(\"mssEC_\\d\\d_00[1-6]\")\n",
    "subj = subj[~filt]"
   ]
  },
  {
   "cell_type": "code",
   "execution_count": 29,
   "metadata": {},
   "outputs": [],
   "source": [
    "# consensus file (by line)\n",
    "cons = pd.read_csv(consensusFile, sep=\"@@\", engine=\"python\").drop_duplicates()"
   ]
  },
  {
   "cell_type": "code",
   "execution_count": 44,
   "metadata": {},
   "outputs": [],
   "source": [
    "# combine the two and sift out unneeded columns\n",
    "tele = pd.merge(cons, subj, on=\"hdl_id\", suffixes=[\"_cons\", \"_subj\"])"
   ]
  }
 ],
 "metadata": {
  "kernelspec": {
   "display_name": "Python 3",
   "language": "python",
   "name": "python3"
  },
  "language_info": {
   "codemirror_mode": {
    "name": "ipython",
    "version": 3
   },
   "file_extension": ".py",
   "mimetype": "text/x-python",
   "name": "python",
   "nbconvert_exporter": "python",
   "pygments_lexer": "ipython3",
   "version": "3.6.1"
  }
 },
 "nbformat": 4,
 "nbformat_minor": 2
}
