{
 "cells": [
  {
   "cell_type": "code",
   "execution_count": 1,
   "metadata": {
    "collapsed": true
   },
   "outputs": [],
   "source": [
    "import numpy as np\n",
    "import pandas as pd\n",
    "import matplotlib as mpl\n",
    "import matplotlib.pyplot as plt\n",
    "import json\n",
    "from scipy import ndimage\n",
    "\n",
    "\n",
    "from readImages import *\n",
    "from imageModifiers import *\n",
    "from readDataFiles import *\n",
    "from projEdgeBreaks import *\n",
    "from gaussBreaks import *\n",
    "from saveImages import *\n",
    "from plottingFuncs import *\n",
    "from gap_metric_breaks import *\n",
    "\n",
    "mpl.rcParams[\"figure.figsize\"] = (15, 15)\n",
    "# %matplotlib inline"
   ]
  },
  {
   "cell_type": "code",
   "execution_count": 2,
   "metadata": {},
   "outputs": [
    {
     "data": {
      "text/plain": [
       "60"
      ]
     },
     "execution_count": 2,
     "metadata": {},
     "output_type": "execute_result"
    }
   ],
   "source": [
    "subjFile = \"data/anti-slavery-manuscripts-subjects.csv\"\n",
    "subj = pd.read_csv(subjFile)\n",
    "\n",
    "# get metadata in dictionary format\n",
    "subj[\"meta_json\"] = [json.loads(q) for q in subj[\"metadata\"]]\n",
    "\n",
    "# get image url\n",
    "subj[\"url\"] = [json.loads(q).get(\"0\") for q in subj[\"locations\"]]\n",
    "\n",
    "# get beta images\n",
    "subj_beta = subj.loc[subj[\"subject_set_id\"] == 16228]\n",
    "len(subj_beta)"
   ]
  },
  {
   "cell_type": "code",
   "execution_count": 3,
   "metadata": {
    "collapsed": true
   },
   "outputs": [],
   "source": [
    "# read in and do all pre-processing #################################\n",
    "let_orig, grey_orig = readImg(subj_beta[\"url\"].iloc[10])\n",
    "grey, let, offset = removeEdges(grey_orig, let_orig, 10.0)"
   ]
  },
  {
   "cell_type": "markdown",
   "metadata": {},
   "source": [
    "Functions for connected component stuff"
   ]
  },
  {
   "cell_type": "code",
   "execution_count": 4,
   "metadata": {
    "collapsed": true
   },
   "outputs": [],
   "source": [
    "def boundsAndRecs(labels, osli, buffer = 0):\n",
    "    rec = []\n",
    "    bounds = []\n",
    "    sh = np.max(labels.shape)\n",
    "    for sl in osli:\n",
    "        sl0 = sl[0].indices(sh)\n",
    "        sl1 = sl[1].indices(sh)\n",
    "\n",
    "        xLeng = sl1[1]-sl1[0]\n",
    "        yLeng = sl0[1]-sl0[0]\n",
    "#         if xLeng*yLeng > 100:\n",
    "        rec.append([[sl1[0], sl0[0]], xLeng, yLeng])\n",
    "        bounds.append([(sl0[0]-buffer, sl0[1]+buffer),\n",
    "                       (sl1[0]-buffer, sl1[1]+buffer)])\n",
    "    return rec, bounds\n",
    "\n",
    "def plotCC(labels, rec):\n",
    "    loop = len(labels)\n",
    "    fig, ax = plt.subplots(figsize=(27, 18), ncols=loop, nrows=1)\n",
    "    for i in range(loop):\n",
    "        if loop > 1:\n",
    "            axf = ax.flatten()[i]\n",
    "        else:\n",
    "            axf = ax\n",
    "        axf.imshow(labels[i], cmap='nipy_spectral')\n",
    "        for j in range(len(rec[i])):\n",
    "            rect = mpl.patches.Rectangle(rec[i][j][0], rec[i][j][1], rec[i][j][2],\n",
    "                                         linewidth=1, edgecolor=\"r\", facecolor=\"none\")\n",
    "            axf.add_patch(rect)\n",
    "    plt.show()"
   ]
  },
  {
   "cell_type": "markdown",
   "metadata": {},
   "source": [
    "# Line breaks"
   ]
  },
  {
   "cell_type": "code",
   "execution_count": 5,
   "metadata": {
    "scrolled": true
   },
   "outputs": [],
   "source": [
    "# get linebreaks ####################################################\n",
    "greySm = smoothImg(grey, 7.0)\n",
    "matchlim = 30\n",
    "lb = projBreaks(greySm, \"y\")\n",
    "lb = filterBreaks(lb, matchlim)\n",
    "# plotBoxes(let, lb)#, saveFile=\"example_img/linebreaks.png\")"
   ]
  },
  {
   "cell_type": "markdown",
   "metadata": {},
   "source": [
    "# Get word breaks via convex hulls"
   ]
  },
  {
   "cell_type": "code",
   "execution_count": 6,
   "metadata": {},
   "outputs": [
    {
     "data": {
      "text/plain": [
       "[46.00116744021029,\n",
       " 43.61849114499686,\n",
       " 11.999329876684113,\n",
       " 7.741477784631998,\n",
       " 42.3202410209937,\n",
       " 31.394548770471673,\n",
       " 27.591810743139302,\n",
       " 16.68700585996636,\n",
       " 7.2911169822055895,\n",
       " 18.859493857686072,\n",
       " 27.60522559760355,\n",
       " 36.920852382717605,\n",
       " 36.624897208774186,\n",
       " 8.434357655417633,\n",
       " 39.95043647844952,\n",
       " 6.65604123641312,\n",
       " 22.000168466724624,\n",
       " 4.947543184356283,\n",
       " 8.660805793980163,\n",
       " 10.582184452039343,\n",
       " 33.274620589186775,\n",
       " 14.691977672989735,\n",
       " 20.15217849105847]"
      ]
     },
     "execution_count": 6,
     "metadata": {},
     "output_type": "execute_result"
    }
   ],
   "source": [
    "i = 8\n",
    "chunk = grey[lb[i-1]:lb[i],]\n",
    "\n",
    "the_d, chhul = getGapDistances(chunk)"
   ]
  }
 ],
 "metadata": {
  "kernelspec": {
   "display_name": "Python 3",
   "language": "python",
   "name": "python3"
  },
  "language_info": {
   "codemirror_mode": {
    "name": "ipython",
    "version": 3
   },
   "file_extension": ".py",
   "mimetype": "text/x-python",
   "name": "python",
   "nbconvert_exporter": "python",
   "pygments_lexer": "ipython3",
   "version": "3.6.1"
  }
 },
 "nbformat": 4,
 "nbformat_minor": 2
}
