{
 "cells": [
  {
   "cell_type": "code",
   "execution_count": 1,
   "metadata": {
    "collapsed": true
   },
   "outputs": [],
   "source": [
    "# load necessary libraries\n",
    "import numpy as np\n",
    "import pandas as pd\n",
    "import matplotlib as mpl\n",
    "import matplotlib.pyplot as plt\n",
    "\n",
    "import json\n",
    "import pickle\n",
    "import glob\n",
    "\n",
    "from readImages import *\n",
    "from imageModifiers import *\n",
    "from readDataFiles import *\n",
    "from projEdgeBreaks import *\n",
    "from gaussBreaks import *\n",
    "from saveImages import *\n",
    "from plottingFuncs import *\n",
    "\n",
    "# change pandas parameter\n",
    "pd.options.mode.chained_assignment = None\n",
    "# change plot size\n",
    "mpl.rcParams[\"figure.figsize\"] = (10, 10)"
   ]
  },
  {
   "cell_type": "markdown",
   "metadata": {},
   "source": [
    "## Specify file and folder locations"
   ]
  },
  {
   "cell_type": "code",
   "execution_count": 2,
   "metadata": {
    "collapsed": true
   },
   "outputs": [],
   "source": [
    "subjFile = \"data/decoding-the-civil-war-subjects-9-29-17.csv\"\n",
    "clFile = 'data/letter-slope-classifications_10nov2017.csv'\n",
    "savefile = \"character_seg.pkl\"\n",
    "\n",
    "consensusFolder = \"C:/Users/danny/Repos/text_segmentation/consensus/consensus/\"\n",
    "# consensusFile = consensusFolder + \"decoding-the-civil-war-consensus-linewise_{mss_label}.csv\"\n",
    "consensusCsvFiles = glob.glob('{}/*.csv'.format(consensusFolder))\n",
    "consensusCsvFiles = [i for i in consensusCsvFiles if \"linewise\" in i]"
   ]
  },
  {
   "cell_type": "markdown",
   "metadata": {},
   "source": [
    "## Segmentation of words"
   ]
  },
  {
   "cell_type": "code",
   "execution_count": 3,
   "metadata": {
    "collapsed": true
   },
   "outputs": [],
   "source": [
    "def matchLines(lb, actuallb, yoffset, matchlim = 30):\n",
    "    matches = []\n",
    "    lb2 = np.add(lb, yoffset)\n",
    "    for i in range(len(lb)):\n",
    "        closest = np.argmin(np.abs(np.subtract(lb2[i], actuallb)))\n",
    "        if np.abs(lb2[i] - actuallb[closest]) < matchlim:\n",
    "            matches.append(closest)\n",
    "        else:\n",
    "            matches.append(-1)\n",
    "    return matches\n",
    "\n",
    "def wordBreaks(grey, lb, matches, linesForTele, nu=3.5, bi=2):\n",
    "    accurL = []\n",
    "\n",
    "    for i in range(1, len(lb)):\n",
    "        print(i, end=\" \")\n",
    "        if matches[i] == -1:\n",
    "            continue\n",
    "        chunk = grey[lb[i-1]:lb[i],]\n",
    "        rw = linesForTele.loc[matches[i],\"consensus_text\"]\n",
    "        # remove leading and trailing \"\n",
    "        if rw[0] == '\"':\n",
    "            rw = rw[1:]\n",
    "        if rw[-1] == '\"':\n",
    "            rw = rw[:-1]\n",
    "        br = gaussBreaks(chunk, nu=nu, biThresh=bi, shear=0, fix=0)\n",
    "        accurL.append({\"lb_index\":i, \"consensus\":rw, \"breaks\":br})\n",
    "    return pd.DataFrame(accurL)"
   ]
  },
  {
   "cell_type": "code",
   "execution_count": 4,
   "metadata": {
    "collapsed": true
   },
   "outputs": [],
   "source": [
    "# run this to only do one file\n",
    "consensusCsvFiles = [consensusCsvFiles[0]]"
   ]
  },
  {
   "cell_type": "code",
   "execution_count": 10,
   "metadata": {
    "collapsed": true
   },
   "outputs": [],
   "source": [
    "# subject file\n",
    "subj = readSubjFile(subjFile)\n",
    "# classification export\n",
    "clExp = readSlopeClassification(clFile)\n",
    "\n",
    "\n",
    "data = {}\n",
    "# for consensusFile in consensusCsvFiles:\n",
    "consensusFile = consensusCsvFiles[0]\n",
    "#################################################################################\n",
    "# Read data files\n",
    "# consensus file (by line)\n",
    "cons = readConsensusFile(consensusFile)\n",
    "# combine data files\n",
    "idAndUrl, telegrams = mergeSubjAndCons(subj, cons, clExp)"
   ]
  },
  {
   "cell_type": "code",
   "execution_count": 6,
   "metadata": {},
   "outputs": [
    {
     "name": "stdout",
     "output_type": "stream",
     "text": [
      "mssEC_02_007\n",
      "1 2 3 4 5 6 7 8 9 10 11 12 13 14 15 16 17 18 19 20 21 22 23 24 25 26 27 28 29 30 31 32 33 34 35 \n"
     ]
    }
   ],
   "source": [
    "##############################################################################################\n",
    "# collect the data for the wordbreaks\n",
    "\n",
    "#     for im in list(idAndUrl.index):\n",
    "im = list(idAndUrl.index)[0]\n",
    "hdl_id = idAndUrl.loc[im, \"hdl_id\"]\n",
    "data[hdl_id] = {}\n",
    "print(hdl_id)\n",
    "\n",
    "data[hdl_id][\"url\"] = idAndUrl.loc[im, \"url_cons\"]\n",
    "linesForTele = telegrams.loc[telegrams[\"hdl_id\"] == hdl_id]\n",
    "linesForTele.loc[:,\"y1\"] = [np.mean(eval(l))\n",
    "                            for l in linesForTele.loc[:,\"y_loc\"]]\n",
    "\n",
    "# read in and do all pre-processing #################################\n",
    "let_orig, grey_orig = readImg(idAndUrl.loc[im, \"url_cons\"])\n",
    "grey, let, offset = removeEdges(grey_orig, let_orig, 35.0)\n",
    "greySm = smoothImg(grey, 7.0)\n",
    "\n",
    "# get linebreaks ####################################################\n",
    "matchlim = 30\n",
    "lb = projBreaks(greySm, \"y\")\n",
    "lb = filterBreaks(lb, matchlim)\n",
    "data[hdl_id][\"lb\"] = lb\n",
    "\n",
    "# get matching lines with actual lines ##############################\n",
    "actuallb = linesForTele.loc[:, 'y1']\n",
    "data[hdl_id]['trim_offset'] = offset\n",
    "matches = matchLines(lb, actuallb, offset[0])\n",
    "data[hdl_id][\"matches\"] = matches\n",
    "\n",
    "# get wordbreaks ####################################################\n",
    "accur = wordBreaks(grey, lb, matches, linesForTele)\n",
    "data[hdl_id][\"word_segments\"] = accur\n",
    "print()\n",
    "\n",
    "# get slope from classification export\n",
    "slope = meanSlope(clExp, hdl_id)"
   ]
  },
  {
   "cell_type": "code",
   "execution_count": 9,
   "metadata": {},
   "outputs": [
    {
     "data": {
      "image/png": "[encoded data removed]",
      "text/plain": [
       "<matplotlib.figure.Figure at 0x1bbfa6af6a0>"
      ]
     },
     "metadata": {},
     "output_type": "display_data"
    },
    {
     "data": {
      "image/png": "[encoded data removed]",
      "text/plain": [
       "<matplotlib.figure.Figure at 0x1bbfaae19e8>"
      ]
     },
     "metadata": {},
     "output_type": "display_data"
    }
   ],
   "source": [
    "for i in range(1, len(lb)):\n",
    "#     print(i, end=\" \")\n",
    "    if matches[i] == -1:\n",
    "        continue\n",
    "    rw = linesForTele.loc[matches[i],\"consensus_text\"]\n",
    "    # remove leading and trailing \"\n",
    "    if rw[0] == '\"':\n",
    "        rw = rw[1:]\n",
    "    if rw[-1] == '\"':\n",
    "        rw = rw[:-1]\n",
    "    wb = accur.loc[accur['lb_index'] == i, 'breaks'].iloc[0]\n",
    "    \n",
    "    for j in range(1, len(wb)):\n",
    "        chunk = grey[lb[i-1]:lb[i], wb[j-1]:wb[j]]\n",
    "        plt.imshow(chunk, cmap='gray')\n",
    "        plt.show()\n",
    "        \n",
    "        chunkSm = smoothImg(chunk, 4)\n",
    "        plt.imshow(chunkSm, cmap='gray')\n",
    "        plt.show()\n",
    "        break\n",
    "    break\n",
    "        \n",
    "    "
   ]
  },
  {
   "cell_type": "code",
   "execution_count": null,
   "metadata": {
    "scrolled": true
   },
   "outputs": [
    {
     "name": "stdout",
     "output_type": "stream",
     "text": [
      "mssEC_02_007\n",
      "1 2 3 4 5 6 7 8 9 10 11 12 13 14 15 16 17 18 19 20 21 22 23 24 25 26 27 28 29 30 31 32 33 34 35 \n",
      "mssEC_02_008\n",
      "1 2 3 4 5 6 7 8 9 10 11 12 13 14 15 16 17 18 19 20 21 22 23 24 25 26 27 28 29 30 31 32 \n",
      "mssEC_02_009\n",
      "1 2 3 4 5 6 7 8 9 10 11 12 13 14 15 16 17 18 19 20 21 22 23 24 25 26 27 28 29 30 31 32 \n",
      "mssEC_02_010\n",
      "1 2 3 4 5 6 7 8 9 10 11 12 13 14 15 16 17 18 19 20 21 22 23 24 25 26 27 28 29 30 31 32 33 34 \n",
      "mssEC_02_011\n",
      "1 2 3 4 5 6 7 8 9 10 11 12 13 14 15 16 17 18 19 20 21 22 23 24 25 26 27 28 29 30 31 32 \n",
      "mssEC_02_012\n",
      "1 2 3 4 5 6 7 8 9 10 11 12 13 14 15 16 17 18 19 20 21 22 23 24 25 26 27 28 29 30 31 32 33 \n",
      "mssEC_02_013\n",
      "1 2 3 4 5 6 7 8 9 10 11 12 13 14 15 16 17 18 19 20 21 22 23 24 25 26 27 28 29 30 31 32 33 \n",
      "mssEC_02_014\n",
      "1 2 3 4 5 6 7 8 9 10 11 12 13 14 15 16 17 18 19 20 21 22 23 24 25 26 27 28 29 30 31 32 \n",
      "mssEC_02_015\n",
      "1 2 3 4 5 6 7 8 9 10 11 12 13 14 15 16 17 18 19 20 21 22 23 24 25 26 27 28 29 30 31 32 33 \n",
      "mssEC_02_016\n",
      "1 2 3 4 5 6 7 8 9 10 11 12 13 14 15 16 17 18 19 20 21 22 23 24 25 26 27 28 29 30 31 32 33 34 \n",
      "mssEC_02_017\n",
      "1 2 3 4 5 6 7 8 9 10 11 12 13 14 15 16 17 18 19 20 21 22 23 24 25 26 27 28 29 30 31 32 33 34 \n",
      "mssEC_02_018\n",
      "1 2 3 4 5 6 7 8 9 10 11 12 13 14 15 16 17 18 19 20 21 22 23 24 25 26 27 28 29 30 31 32 \n",
      "mssEC_02_019\n",
      "1 2 3 4 5 6 7 8 9 10 11 12 13 14 15 16 17 18 19 20 21 22 23 24 25 26 27 28 29 30 31 32 33 34 35 36 \n",
      "mssEC_02_020\n",
      "1 2 3 4 5 6 7 8 9 10 11 12 13 14 15 16 17 18 19 20 21 22 23 24 25 26 27 28 29 30 31 32 33 34 35 \n",
      "mssEC_02_021\n",
      "1 2 3 4 5 6 7 8 9 10 11 12 13 14 15 16 17 18 19 20 21 22 23 24 25 26 27 28 29 30 31 32 33 34 35 \n",
      "mssEC_02_022\n",
      "1 2 3 4 5 6 7 8 9 10 11 12 13 14 15 16 17 18 19 20 21 22 23 24 25 26 27 28 29 30 31 32 33 34 35 \n",
      "mssEC_02_023\n",
      "1 2 3 4 5 6 7 8 9 10 11 12 13 14 15 16 17 18 19 20 21 22 23 24 25 26 27 28 29 30 31 32 33 \n",
      "mssEC_02_024\n",
      "1 2 3 4 5 6 7 8 9 10 11 12 13 14 15 16 17 18 19 20 21 22 23 24 25 26 27 28 29 30 31 32 33 34 \n",
      "mssEC_02_025\n",
      "1 2 3 4 5 6 7 8 9 10 11 12 13 14 15 16 17 18 19 20 21 22 23 24 25 26 27 28 29 30 31 32 33 34 35 \n",
      "mssEC_02_030\n",
      "1 2 3 4 5 6 7 8 9 10 11 12 13 14 15 16 17 18 19 20 21 22 23 24 25 26 27 28 29 30 31 32 33 34 \n",
      "mssEC_02_031\n",
      "1 2 3 4 5 6 7 8 9 10 11 12 13 14 15 16 17 18 19 20 21 22 23 24 25 26 27 28 29 30 31 32 33 34 \n",
      "mssEC_02_032\n",
      "1 2 3 4 5 6 7 8 9 10 11 12 13 14 15 16 17 18 19 20 21 22 23 24 25 26 27 28 29 30 31 32 33 \n",
      "mssEC_02_033\n",
      "1 2 3 4 5 6 7 8 9 10 11 12 13 14 15 16 17 18 19 20 21 22 23 24 25 26 27 28 29 30 31 32 33 34 35 \n",
      "mssEC_02_034\n",
      "1 2 3 4 5 6 7 8 9 10 11 12 13 14 15 16 17 18 19 20 21 22 23 24 25 26 27 28 29 30 31 32 \n",
      "mssEC_02_035\n",
      "1 2 3 4 5 6 7 8 9 10 11 12 13 14 15 16 17 18 19 20 21 22 23 24 25 26 27 28 29 30 31 32 33 34 35 36 \n",
      "mssEC_02_036\n",
      "1 2 3 4 5 6 7 8 9 10 11 12 13 14 15 16 17 18 19 20 21 22 23 24 25 26 27 28 29 30 31 32 33 34 \n",
      "mssEC_02_037\n",
      "1 2 3 4 5 6 7 8 9 10 11 12 13 14 15 16 17 18 19 20 21 22 23 24 25 26 27 28 29 30 31 32 33 34 35 36 \n",
      "mssEC_02_038\n",
      "1 2 3 4 5 6 7 8 9 10 11 12 13 14 15 16 17 18 19 20 21 22 23 24 25 26 27 28 29 30 31 32 33 34 35 36 \n",
      "mssEC_02_039\n",
      "1 2 3 4 5 6 7 8 9 10 11 12 13 14 15 16 17 18 19 20 21 22 23 24 25 26 27 28 29 30 31 32 33 34 35 \n",
      "mssEC_02_070\n",
      "1 2 3 4 5 6 7 8 9 10 11 12 13 14 15 16 17 18 19 20 21 22 23 24 25 26 27 28 29 30 31 32 33 34 \n",
      "mssEC_02_071\n",
      "1 2 3 4 5 6 7 8 9 10 11 12 13 14 15 16 17 18 19 20 21 22 23 24 25 26 27 28 29 30 31 32 33 34 \n",
      "mssEC_02_072\n",
      "1 2 3 4 5 6 7 8 9 10 11 12 13 14 15 16 17 18 19 20 21 22 23 24 25 26 27 28 29 30 31 32 33 34 \n",
      "mssEC_02_073\n",
      "1 2 3 4 5 6 7 8 9 10 11 12 13 14 15 16 17 18 19 20 21 22 23 24 25 26 27 28 29 30 31 32 \n",
      "mssEC_02_074\n",
      "1 2 3 4 5 6 7 8 9 10 11 12 13 14 15 16 17 18 19 20 21 22 23 24 25 26 27 28 29 30 31 32 33 34 \n",
      "mssEC_02_075\n",
      "1 2 3 4 5 6 7 8 9 10 11 12 13 14 15 16 17 18 19 20 21 22 23 24 25 26 27 28 29 30 31 32 33 34 \n",
      "mssEC_02_076\n",
      "1 2 3 4 5 6 7 8 9 10 11 12 13 14 15 16 17 18 19 20 21 22 23 24 25 26 27 28 29 30 31 32 \n",
      "mssEC_02_077\n",
      "1 2 3 4 5 6 7 8 9 10 11 12 13 14 15 16 17 18 19 20 21 22 23 24 25 26 27 28 29 30 \n",
      "mssEC_02_078\n",
      "1 2 3 4 5 6 7 8 9 10 11 12 13 14 15 16 17 18 19 20 21 22 23 24 25 26 27 28 29 30 31 32 \n",
      "mssEC_02_079\n",
      "1 2 3 4 5 6 7 8 9 10 11 12 13 14 15 16 17 18 19 20 21 22 23 24 25 26 27 28 29 30 31 32 33 \n",
      "mssEC_02_080\n",
      "1 2 3 4 5 6 7 8 9 10 11 12 13 14 15 16 17 18 19 20 21 22 23 24 25 26 27 28 29 30 31 32 33 34 \n",
      "mssEC_02_081\n",
      "1 2 3 4 5 6 7 8 9 10 11 12 13 14 15 16 17 18 19 20 21 22 23 24 25 26 27 28 29 30 31 32 \n",
      "mssEC_02_082\n",
      "1 2 3 4 5 6 7 8 9 10 11 12 13 14 15 16 17 18 19 20 21 22 23 24 25 26 27 28 29 30 31 32 33 34 \n",
      "mssEC_02_083\n",
      "1 2 3 4 5 6 7 8 9 10 11 12 13 14 15 16 17 18 19 20 21 22 23 24 25 26 27 28 29 30 31 32 33 34 \n",
      "mssEC_02_084\n",
      "1 2 3 4 5 6 7 8 9 10 11 12 13 14 15 16 17 18 19 20 21 22 23 24 25 26 27 28 29 30 31 32 33 \n",
      "mssEC_02_085\n",
      "1 2 3 4 5 6 7 8 9 10 11 12 13 14 15 16 17 18 19 20 21 22 23 24 25 26 27 28 29 30 31 32 33 34 35 36 \n",
      "mssEC_02_086\n",
      "1 2 3 4 5 6 7 8 9 10 11 12 13 14 15 16 17 18 19 20 21 22 23 24 25 26 27 28 29 30 31 \n",
      "mssEC_02_087\n",
      "1 2 3 4 5 6 7 8 9 10 11 12 13 14 15 16 17 18 19 20 21 22 23 24 25 26 27 28 29 30 31 32 33 34 35 \n",
      "mssEC_02_088\n",
      "1 2 3 4 5 6 7 8 9 10 11 12 13 14 15 16 17 18 19 20 21 22 23 24 25 26 27 28 29 30 31 32 \n",
      "mssEC_02_089\n",
      "1 2 3 4 5 6 7 8 9 10 11 12 13 14 15 16 17 18 19 20 21 22 23 24 25 26 27 28 29 30 31 32 \n",
      "mssEC_02_090\n",
      "1 2 3 4 5 6 7 8 9 10 11 12 13 14 15 16 17 18 19 20 21 22 23 24 25 26 27 28 29 30 31 32 33 34 \n",
      "mssEC_02_091\n",
      "1 2 3 4 5 6 7 8 9 10 11 12 13 14 15 16 17 18 19 20 21 22 23 24 25 26 27 28 29 30 31 32 33 34 35 \n",
      "mssEC_02_092\n",
      "1 2 3 4 5 6 7 8 9 10 11 12 13 14 15 16 17 18 19 20 21 22 23 24 25 26 27 28 29 30 31 32 33 34 35 \n",
      "mssEC_02_093\n",
      "1 2 3 4 5 6 7 8 9 10 11 12 13 14 15 16 17 18 19 20 21 22 23 24 25 26 27 28 29 30 31 32 33 34 35 \n",
      "mssEC_02_094\n",
      "1 2 3 4 5 6 7 8 9 10 11 12 13 14 15 16 17 18 19 20 21 22 23 24 25 26 27 28 29 30 31 32 33 \n",
      "mssEC_02_095\n",
      "1 2 3 4 5 6 7 8 9 10 11 12 13 14 15 16 17 18 19 20 21 22 23 24 25 26 27 28 29 30 31 32 33 34 \n",
      "mssEC_02_096\n",
      "1 2 3 4 5 6 7 8 9 10 11 12 13 14 15 16 17 18 19 20 21 22 23 24 25 26 27 28 29 30 31 32 33 34 35 \n",
      "mssEC_02_097\n",
      "1 2 3 4 5 6 7 8 9 10 11 12 13 14 15 16 17 18 19 20 21 22 23 24 25 26 27 28 29 30 31 32 33 34 35 36 \n",
      "mssEC_02_098\n",
      "1 2 3 4 5 6 7 8 9 10 11 12 13 14 15 16 17 18 19 20 21 22 23 24 25 26 27 28 29 30 31 32 33 34 35 \n",
      "mssEC_02_099\n",
      "1 2 3 4 5 6 7 8 9 10 11 12 13 14 15 16 17 18 19 20 21 22 23 24 25 26 27 28 29 30 31 32 33 34 \n",
      "mssEC_02_100\n",
      "1 2 3 4 5 6 7 8 9 10 11 12 13 14 15 16 17 18 19 20 21 22 23 24 25 26 27 28 29 30 31 32 33 34 35 \n",
      "mssEC_02_101\n",
      "1 2 3 4 5 6 7 8 9 10 11 12 13 14 15 16 17 18 19 20 21 22 23 24 25 26 27 28 29 30 31 32 33 34 \n",
      "mssEC_02_102\n",
      "1 2 3 4 5 6 7 8 9 10 11 12 13 14 15 16 17 18 19 20 21 22 23 24 25 26 27 28 29 30 31 32 33 34 \n",
      "mssEC_02_103\n",
      "1 2 3 4 5 6 7 8 9 10 11 12 13 14 15 16 17 18 19 20 21 22 23 24 25 26 27 28 29 30 31 32 33 34 35 \n",
      "mssEC_02_104\n",
      "1 2 3 4 5 6 7 8 9 10 11 12 13 14 15 16 17 18 19 20 21 22 23 24 25 26 27 28 29 30 31 32 33 34 35 \n",
      "mssEC_02_105\n",
      "1 2 3 4 5 6 7 8 9 10 11 12 13 14 15 16 17 18 19 20 21 22 23 24 25 26 27 28 29 30 31 32 33 34 \n",
      "mssEC_02_106\n",
      "1 2 3 4 5 6 7 8 9 10 11 12 13 14 15 16 17 18 19 20 21 22 23 24 25 26 27 28 29 30 31 32 33 34 \n",
      "mssEC_02_107\n",
      "1 2 3 4 5 6 7 8 9 10 11 12 13 14 15 16 17 18 19 20 21 22 23 24 25 26 27 28 29 30 31 32 33 34 \n",
      "mssEC_02_108\n",
      "1 2 3 4 5 6 7 8 9 10 11 12 13 14 15 16 17 18 19 20 21 22 23 24 25 26 27 28 29 30 31 32 33 34 35 \n",
      "mssEC_02_109\n",
      "1 2 3 4 5 6 7 8 9 10 11 12 13 14 15 16 17 18 19 20 21 22 23 24 25 26 27 28 29 30 31 32 33 34 \n",
      "mssEC_02_110\n",
      "1 2 3 4 5 6 7 8 9 10 11 12 13 14 15 16 17 18 19 20 21 22 23 24 25 26 27 28 29 30 31 32 33 34 35 \n",
      "mssEC_02_111\n",
      "1 2 3 4 5 6 7 8 9 10 11 "
     ]
    }
   ],
   "source": [
    "#         save object\n",
    "# with open(savefile, \"wb\") as f:\n",
    "#     pickle.dump(data, f)"
   ]
  },
  {
   "cell_type": "code",
   "execution_count": 39,
   "metadata": {},
   "outputs": [
    {
     "name": "stdout",
     "output_type": "stream",
     "text": [
      "https://panoptes-uploads.zooniverse.org/production/subject_location/088bb5aa-7265-4246-a784-59d1ad1793ee.jpeg\n"
     ]
    }
   ],
   "source": [
    "print(idAndUrl.loc[im, \"url_cons\"])"
   ]
  }
 ],
 "metadata": {
  "kernelspec": {
   "display_name": "Python 3",
   "language": "python",
   "name": "python3"
  },
  "language_info": {
   "codemirror_mode": {
    "name": "ipython",
    "version": 3
   },
   "file_extension": ".py",
   "mimetype": "text/x-python",
   "name": "python",
   "nbconvert_exporter": "python",
   "pygments_lexer": "ipython3",
   "version": "3.6.1"
  }
 },
 "nbformat": 4,
 "nbformat_minor": 2
}
