{
 "cells": [
  {
   "cell_type": "code",
   "execution_count": 1,
   "metadata": {
    "collapsed": true
   },
   "outputs": [],
   "source": [
    "from DcwAggregation import *\n",
    "\n",
    "verbose = True\n",
    "extraVerbose = False\n",
    "if verbose:\n",
    "    import pprint\n",
    "    # from IPython.core.display import display\n",
    "    pprinter = pprint.PrettyPrinter(indent=4)\n",
    "\n",
    "# get_ipython().magic('matplotlib inline')\n",
    "\n",
    "# ## Globally relevant variables\n",
    "\n",
    "saveIdentifiedLineDetails = True  # Need to do this to recompute for every codebook\n",
    "applyDoubleLineFix = False\n",
    "applyDoubleWordFilter = True\n",
    "applyDoubleLineFilter = True\n",
    "classificationBaseDirectory = 'C:/Users/danny/Repos/text_segmentation/consensus/classifications/'\n",
    "consensusBaseDirectory = 'C:/Users/danny/Repos/text_segmentation/consensus/consensus/'\n",
    "databaseNamePattern = 'dcwConsensus_{mss_label}'\n",
    "aggregatedDataFileNamePattern = 'decoding-the-civil-war-aggregated_{mss_label}.txt'\n",
    "# 'decoding-the-civil-war-consensus-linewise.csv'\n",
    "aggregatedDataCsvFileNamePattern = 'decoding-the-civil-war-consensus-linewise_{mss_label}.csv'\n",
    "# 'decoding-the-civil-war-consensus-subjectwise.csv'\n",
    "aggregatedDataSubjectWiseCsvFileNamePattern = 'decoding-the-civil-war-consensus-subjectwise_{mss_label}_withBreaks.csv'\n",
    "# 'dataWithLineIDs_subset.pkl'\n",
    "identifiedLineFilePathPattern = 'dataWithLineIDs_subset_{mss_label}.pkl'\n",
    "liveDate = dateutil.parser.parse(\"2016-06-20T00:00:00.00Z\")\n",
    "\n",
    "# Processing multiple classificaton files\n",
    "classificationCsvFiles = glob.glob(\n",
    "    '{}/*.csv'.format(classificationBaseDirectory))"
   ]
  },
  {
   "cell_type": "code",
   "execution_count": 2,
   "metadata": {},
   "outputs": [
    {
     "name": "stdout",
     "output_type": "stream",
     "text": [
      "Processing C:/Users/danny/Repos/text_segmentation/consensus/classifications\\classification_export_mssEC_02_05_25_17.csv...\n",
      "Parsed 2177 telegrams and stored 232.\n",
      "Processed 100 subjects...\n",
      "Processed 200 subjects...\n"
     ]
    }
   ],
   "source": [
    "# ledgerIndex = 30\n",
    "for sampleDataFileName in classificationCsvFiles:\n",
    "    print('Processing {}...'.format(sampleDataFileName))\n",
    "    \n",
    "    mssLabel = sampleDataFileName.split('/')[-1][len(\n",
    "        'classification_export_'):-4]\n",
    "    aggregatedDataFileName = aggregatedDataFileNamePattern.format(\n",
    "        mss_label=mssLabel)  # 'decoding-the-civil-war-aggregated.txt'\n",
    "    aggregatedDataCsvFileName = aggregatedDataCsvFileNamePattern.format(\n",
    "        mss_label=mssLabel)  # 'decoding-the-civil-war-consensus-linewise.csv'\n",
    "    aggregatedDataSubjectWiseCsvFileName = aggregatedDataSubjectWiseCsvFileNamePattern.format(\n",
    "        mss_label=mssLabel)  # 'decoding-the-civil-war-consensus-subjectwise.csv'\n",
    "    identifiedLineFilePath = identifiedLineFilePathPattern.format(\n",
    "        mss_label=mssLabel)  # 'dataWithLineIDs_subset.pkl'\n",
    "\n",
    "    subjectDataFileName = 'decoding-the-civil-war-subjects-9-29-17.csv'\n",
    "\n",
    "    subjectsFrame = loadSubjectData(subjectDataFileName)\n",
    "\n",
    "    telegrams, nTelegramsParsed = loadTelegrams(sampleDataFileName)\n",
    "    print('Parsed {} telegrams and stored {}.'.format(\n",
    "        nTelegramsParsed, len(telegrams)))\n",
    "\n",
    "    transcriptionLineStats, transcriptionLineDetailsFrame = processLoadedTelegrams(\n",
    "        telegrams)\n",
    "\n",
    "    transcriptionLineDetailsFrame = groupTranscriptionsLinewise(\n",
    "        transcriptionLineDetailsFrame, 40, identifiedLineFilePath, saveIdentifiedLineDetails)\n",
    "\n",
    "    # This is an intentional no-op\n",
    "    transcriptionLineDetailsFrame = doubleLineFix(\n",
    "        transcriptionLineDetailsFrame, applyDoubleLineFix=False)\n",
    "\n",
    "    # The previous step is time consuming so serialize the processed data at\n",
    "    # this stage\n",
    "    if saveIdentifiedLineDetails:\n",
    "        transcriptionLineDetailsFrame.to_pickle(consensusBaseDirectory + identifiedLineFilePath)\n",
    "\n",
    "    lineGroupedTranscriptionLineDetails = processSentences(\n",
    "        transcriptionLineDetailsFrame, subjectsFrame)\n",
    "    saveAggregatedData(lineGroupedTranscriptionLineDetails,\n",
    "                       consensusBaseDirectory + aggregatedDataCsvFileName, \n",
    "                       consensusBaseDirectory + aggregatedDataSubjectWiseCsvFileName,\n",
    "                       applyDoubleWordFilter, applyDoubleLineFilter, extraVerbose)\n",
    "    break"
   ]
  }
 ],
 "metadata": {
  "kernelspec": {
   "display_name": "Python 3",
   "language": "python",
   "name": "python3"
  },
  "language_info": {
   "codemirror_mode": {
    "name": "ipython",
    "version": 3
   },
   "file_extension": ".py",
   "mimetype": "text/x-python",
   "name": "python",
   "nbconvert_exporter": "python",
   "pygments_lexer": "ipython3",
   "version": "3.6.1"
  }
 },
 "nbformat": 4,
 "nbformat_minor": 2
}
