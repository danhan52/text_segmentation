{
 "cells": [
  {
   "cell_type": "code",
   "execution_count": 1,
   "metadata": {
    "collapsed": true
   },
   "outputs": [],
   "source": [
    "import numpy as np\n",
    "import pandas as pd\n",
    "import matplotlib as mpl\n",
    "import matplotlib.pyplot as plt\n",
    "import json\n",
    "from scipy import ndimage\n",
    "\n",
    "\n",
    "from readImages import *\n",
    "from imageModifiers import *\n",
    "from readDataFiles import *\n",
    "from projEdgeBreaks import *\n",
    "from gaussBreaks import *\n",
    "from saveImages import *\n",
    "from plottingFuncs import *\n",
    "from gap_metric_breaks import *"
   ]
  },
  {
   "cell_type": "code",
   "execution_count": 2,
   "metadata": {},
   "outputs": [
    {
     "data": {
      "text/plain": [
       "11"
      ]
     },
     "execution_count": 2,
     "metadata": {},
     "output_type": "execute_result"
    }
   ],
   "source": [
    "mpl.rcParams[\"figure.figsize\"] = (15, 15)\n",
    "# %matplotlib inline\n",
    "\n",
    "subjFile = \"data/anti-slavery-manuscripts-subjects.csv\"\n",
    "subj = pd.read_csv(subjFile)\n",
    "\n",
    "# get metadata in dictionary format\n",
    "subj[\"meta_json\"] = [json.loads(q) for q in subj[\"metadata\"]]\n",
    "\n",
    "# get image url\n",
    "subj[\"url\"] = [json.loads(q).get(\"0\") for q in subj[\"locations\"]]\n",
    "\n",
    "# get beta images\n",
    "subj_beta = subj.loc[subj[\"subject_set_id\"] == 16451]\n",
    "subj_beta = subj_beta.drop_duplicates([\"subject_id\", \"locations\"])\n",
    "len(subj_beta)"
   ]
  },
  {
   "cell_type": "code",
   "execution_count": 3,
   "metadata": {},
   "outputs": [],
   "source": [
    "for i in range(len(subj_beta)):\n",
    "    # read in and do all pre-processing #################################\n",
    "    let_orig, grey_orig = readImg(subj_beta[\"url\"].iloc[i])\n",
    "    grey, let, offset = removeEdges(grey_orig, let_orig, 10.0)\n",
    "    \n",
    "    # get linebreaks ####################################################\n",
    "    greySm = smoothImg(grey, 7.0)\n",
    "    matchlim = 30\n",
    "    lb = projBreaks(greySm, \"y\")\n",
    "    lb = filterBreaks(lb, matchlim)\n",
    "    plotBoxes(let, lb, saveFile=\"example_img/linebreaks\"+str(i)+\".png\")"
   ]
  }
 ],
 "metadata": {
  "kernelspec": {
   "display_name": "Python 3",
   "language": "python",
   "name": "python3"
  },
  "language_info": {
   "codemirror_mode": {
    "name": "ipython",
    "version": 3
   },
   "file_extension": ".py",
   "mimetype": "text/x-python",
   "name": "python",
   "nbconvert_exporter": "python",
   "pygments_lexer": "ipython3",
   "version": "3.6.3"
  }
 },
 "nbformat": 4,
 "nbformat_minor": 2
}
