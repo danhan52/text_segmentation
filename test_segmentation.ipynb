{
 "cells": [
  {
   "cell_type": "code",
   "execution_count": 1,
   "metadata": {
    "collapsed": true
   },
   "outputs": [],
   "source": [
    "# load necessary libraries\n",
    "import numpy as np\n",
    "from scipy import ndimage\n",
    "from scipy import misc\n",
    "from scipy import stats\n",
    "from scipy.signal import argrelextrema\n",
    "from scipy.ndimage.filters import gaussian_filter as gf\n",
    "\n",
    "import matplotlib.pyplot as plt\n",
    "import matplotlib as mpl\n",
    "from matplotlib.patches import Rectangle as Rec\n",
    "\n",
    "from skimage import filters\n",
    "from skimage.feature import canny\n",
    "from skimage import transform as tf\n",
    "\n",
    "from operator import itemgetter\n",
    "from itertools import groupby\n",
    "import csv\n",
    "\n",
    "# change plot size\n",
    "mpl.rcParams['figure.figsize'] = (15, 15)"
   ]
  },
  {
   "cell_type": "markdown",
   "metadata": {},
   "source": [
    "## Image modifying functions"
   ]
  },
  {
   "cell_type": "code",
   "execution_count": 2,
   "metadata": {
    "collapsed": true
   },
   "outputs": [],
   "source": [
    "# read in an image\n",
    "def readImg(filename, plotIt = False):\n",
    "    # read in image file\n",
    "    let = misc.imread(filename)\n",
    "    # read it in as grey\n",
    "    grey = misc.imread(filename, flatten=True)\n",
    "    \n",
    "    if plotIt:        \n",
    "        plt.imshow(let)\n",
    "        plt.show()\n",
    "        plt.imshow(grey, cmap = \"gray\")\n",
    "        plt.show()\n",
    "    return let, grey\n",
    "\n",
    "# project the image onto a specific direction\n",
    "def project(img, direction):\n",
    "    if direction == \"x\":\n",
    "        proj = np.sum(img, 0)\n",
    "    elif direction == \"y\":\n",
    "        proj = np.sum(img, 1)\n",
    "    else:\n",
    "        print(\"Direction must be one of 'x' or 'y'\")\n",
    "        proj = []\n",
    "    return proj\n",
    "\n",
    "# binarize an image\n",
    "def binarizeImg(img, biThresh, plotIt = False):\n",
    "    imgCp = img.copy()\n",
    "    if biThresh == \"otsu\":\n",
    "        biThresh = filters.threshold_otsu(imgCp)\n",
    "    inds = imgCp > biThresh\n",
    "    imgCp[inds] = 1\n",
    "    imgCp[np.logical_not(inds)] = 0\n",
    "    if plotIt:\n",
    "        plt.imshow(imgCp, cmap = \"gray\")\n",
    "        plt.show()\n",
    "    return imgCp\n",
    "\n",
    "# smooth an image\n",
    "def smoothImg(img, smoothSigma, plotIt = False):\n",
    "    imgCp = ndimage.filters.gaussian_filter(input=img, sigma=smoothSigma)\n",
    "    if plotIt:\n",
    "        plt.imshow(imgCp, cmap = \"gray\")\n",
    "        plt.show()\n",
    "    return imgCp\n",
    "\n",
    "\n",
    "# functions for removing/whitening the edges of the image\n",
    "# remove all rows that are entirely black\n",
    "def removeEdges(imgCol, imgGr, rmThresh = 0):\n",
    "    imgGrCp = imgGr.copy()\n",
    "    imgColCp = imgCol.copy()\n",
    "    \n",
    "    imgY = project(imgGrCp, \"y\")\n",
    "    imgGrCp = imgGrCp[imgY > rmThresh]\n",
    "    imgColCp = imgColCp[imgY > rmThresh]\n",
    "    \n",
    "    imgX = project(imgGrCp, \"x\")\n",
    "    imgGrCp = imgGrCp[:,imgX > rmThresh]\n",
    "    imgColCp = imgColCp[:,imgX > rmThresh]\n",
    "    return imgColCp, imgGrCp\n",
    "\n",
    "# whiten based on projection\n",
    "def whitenEdgesProject(grey):\n",
    "    grey2 = smoothImg(grey, smoothSigma=1.0)\n",
    "    brX = argrelextrema(project(grey2, \"x\"), np.greater_equal)[0]\n",
    "    brX = [brX[0], brX[-1]]\n",
    "    brY = argrelextrema(project(grey2, \"y\"), np.greater_equal)[0]\n",
    "    brY = [brY[0], brY[-1]]\n",
    "    greyCp = grey.copy()\n",
    "    greyCp[:,:brX[0]] = 255\n",
    "    greyCp[:,brX[1]:] = 255\n",
    "    greyCp[:brY[0]] = 255\n",
    "    greyCp[brY[1]:] = 255\n",
    "    return greyCp\n",
    "\n",
    "# use an edge filter\n",
    "def whitenEdgesFilter(grey):\n",
    "    grey2 = smoothImg(grey, smoothSigma=3.0)\n",
    "    grey2 = 1 - binarizeImg(grey2, \"otsu\")\n",
    "    labels, nrObj = ndimage.label(grey2)\n",
    "    nr, nc = grey.shape\n",
    "    wlabs = [labels[0, 0], labels[0, nc-1], labels[nr-1, 0],\n",
    "             labels[nr-1, nc-1]]\n",
    "    wlabs = np.unique(wlabs)\n",
    "    greyCp = grey.copy()\n",
    "    for la in wlabs:\n",
    "        greyCp[labels == la] = 255\n",
    "    return greyCp"
   ]
  },
  {
   "cell_type": "markdown",
   "metadata": {},
   "source": [
    "## Plotting functions"
   ]
  },
  {
   "cell_type": "code",
   "execution_count": 3,
   "metadata": {
    "collapsed": true,
    "scrolled": true
   },
   "outputs": [],
   "source": [
    "# plot \"histogram\"\n",
    "def densityHist(proj, pers = []):\n",
    "    plt.plot(proj)\n",
    "    ny = proj.shape[0]\n",
    "    for pe in pers:\n",
    "        p = np.percentile(proj, pe)\n",
    "        plt.plot([0,ny], [p, p])\n",
    "        plt.text(x=ny, y=p, s=str(pe))\n",
    "    plt.show()\n",
    "\n",
    "# plot boxes around words (or just linebreaks)\n",
    "def plotBoxes(img, lb, wb = [], cb = [], cmap = None):\n",
    "    if len(lb) == 0:\n",
    "        lb = [0, img.shape[0]]\n",
    "    plt.imshow(img, cmap=cmap)\n",
    "    plt.plot([0,img.shape[1]], [lb, lb], 'b')\n",
    "    if len(wb) > 0:\n",
    "        for i in range(len(lb)-1):\n",
    "            plt.plot([wb[i], wb[i]], [lb[i], lb[i+1]], 'b')\n",
    "            if len(cb) > 0:\n",
    "                for j in range(len(wb[i])-1):\n",
    "                    plt.plot([np.add(wb[i][j], cb[i][j]), np.add(wb[i][j],cb[i][j])],\n",
    "                             [lb[i], lb[i+1]], 'r')\n",
    "    plt.show()"
   ]
  },
  {
   "cell_type": "markdown",
   "metadata": {},
   "source": [
    "## Segmentation functions"
   ]
  },
  {
   "cell_type": "code",
   "execution_count": 4,
   "metadata": {
    "collapsed": true
   },
   "outputs": [],
   "source": [
    "# get breaks based on projection\n",
    "def projBreaks(img, direction, thresh = 0):\n",
    "    proj = project(img, direction)\n",
    "    breaks = argrelextrema(proj, np.greater_equal)[0]\n",
    "    breaks = breaks[breaks > thresh-1]\n",
    "    # append 0 and image size to ends of vector\n",
    "    if not breaks[0] == 0:\n",
    "        breaks = np.insert(breaks, 0, 0)\n",
    "    if not breaks[-1] == proj.shape[0]:\n",
    "        breaks = np.append(breaks, proj.shape[0]) \n",
    "    return breaks.astype(\"int\")\n",
    "\n",
    "# get the breaks based on canny edge detection\n",
    "def edgeBreaks(img, direction, thresh = 0, cpar = [5, 1, 25]):\n",
    "    edges = canny(img, cpar[0], cpar[1], cpar[2])\n",
    "    eproj = project(edges, direction)\n",
    "    br = np.sort(np.where(eproj <= thresh)[0])\n",
    "    # get middle (mean) of continuous sequences\n",
    "    breaks = []\n",
    "    for k, g in groupby(enumerate(br), lambda ix:ix[0]-ix[1]):\n",
    "        group = list(map(itemgetter(1), g))\n",
    "        breaks.append(np.mean(group))\n",
    "    # append 0 and image size to ends of vector\n",
    "    if not breaks[0] == 0:\n",
    "        breaks = np.insert(breaks, 0, 0)\n",
    "    if not breaks[-1] == eproj.shape[0]:\n",
    "        breaks = np.append(breaks, eproj.shape[0]) \n",
    "    return breaks.astype(\"int\")"
   ]
  },
  {
   "cell_type": "code",
   "execution_count": 5,
   "metadata": {
    "collapsed": true
   },
   "outputs": [],
   "source": [
    "def gaussBreaks(chunk, nu=3.5, shear=0.6, fix=15, plotIt=False):\n",
    "    # get smoothing factors\n",
    "    sigYs = np.arange(1, 8, 0.3)\n",
    "    sigXs = sigYs * nu\n",
    "    # shear the image\n",
    "    oldrg = (np.max(chunk) - np.min(chunk))\n",
    "    newrg = 2\n",
    "    ch2 = (((chunk - np.min(chunk)) * newrg) / oldrg) - 1\n",
    "    mytf = tf.AffineTransform(shear=shear)\n",
    "    chunk = tf.warp(ch2, inverse_map=mytf)\n",
    "    \n",
    "    # choose which smoothing factor to use based on minimizing\n",
    "    # the white space\n",
    "    extents = []\n",
    "    count = 0\n",
    "    for j in range(len(sigYs)):\n",
    "        filt = gf(input=chunk, sigma=(sigYs[j],sigXs[j]), order=0)\n",
    "        if count < 2:\n",
    "            th = filters.threshold_otsu(filt)\n",
    "            count += 1\n",
    "        binfilt = binarizeImg(filt, th)\n",
    "        extents.append(np.sum(binfilt))\n",
    "    j = np.argmin(extents)\n",
    "    \n",
    "    filt = ndimage.filters.gaussian_filter(input=chunk, sigma=(sigYs[j],sigXs[j]))\n",
    "    binfilt = 1 - binarizeImg(filt, th)\n",
    "\n",
    "    # find connect components\n",
    "    labels, nrObj = ndimage.label(binfilt)\n",
    "    osli = ndimage.find_objects(labels)\n",
    "    \n",
    "    # find the word boxes\n",
    "    rec = []\n",
    "    bounds = []\n",
    "    sh = np.max(labels.shape)\n",
    "    for sl in osli:\n",
    "        sl0 = sl[0].indices(sh)\n",
    "        sl1 = sl[1].indices(sh)\n",
    "        \n",
    "        xLeng = sl1[1]-sl1[0]\n",
    "        yLeng = sl0[1]-sl0[0]\n",
    "        if xLeng*yLeng > 100:\n",
    "            bounds.append([sl1[0], sl1[1]])\n",
    "            rec.append([[sl1[0], sl0[0]], xLeng, yLeng])\n",
    "    # combine those that are surrounded by others\n",
    "    bounds = sorted(bounds)\n",
    "    newbounds = []\n",
    "    skipnext = False\n",
    "    if len(bounds) <= 0:\n",
    "        return [0, chunk.shape[1]]\n",
    "    bPrev = bounds[0]\n",
    "    for i in range(1, len(bounds)):\n",
    "        bCur = bounds[i]\n",
    "        if bPrev[1] > bCur[0]:\n",
    "            bPrev = [bPrev[0], bCur[1]]\n",
    "        else:\n",
    "            newbounds.append(bPrev)\n",
    "            bPrev = [x for x in bCur]\n",
    "    newbounds.append(bPrev)\n",
    "    try:\n",
    "        wbLine = [newbounds[0][0]]\n",
    "    except:\n",
    "        wbLine = [0]\n",
    "    for i in range(1, len(newbounds)):\n",
    "        b1 = newbounds[i-1]\n",
    "        b2 = newbounds[i]\n",
    "        wbLine.append(np.mean([b1[1], b2[0]])-fix)\n",
    "    try:\n",
    "        wbLine.append(b2[1])\n",
    "    except:\n",
    "        wbLine.append(chunk.shape[1])\n",
    "#         pass\n",
    "    \n",
    "    # plot connected components\n",
    "    if plotIt:\n",
    "        fit,ax = plt.subplots(1)\n",
    "        ax.imshow(labels, cmap='nipy_spectral')\n",
    "        for i in range(len(rec)):\n",
    "            rect = mpl.patches.Rectangle(rec[i][0], rec[i][1], rec[i][2], linewidth=1, edgecolor=\"r\", facecolor=\"none\")\n",
    "            ax.add_patch(rect)\n",
    "        plt.show()\n",
    "    \n",
    "    return np.array(wbLine).astype(\"int\")"
   ]
  },
  {
   "cell_type": "markdown",
   "metadata": {},
   "source": [
    "## Save images"
   ]
  },
  {
   "cell_type": "code",
   "execution_count": 18,
   "metadata": {
    "collapsed": false
   },
   "outputs": [],
   "source": [
    "# save all segments to a folder\n",
    "def saveSegments(img, fname, lb, wb, cb = [], folder = \"./\",\n",
    "                 ftype = \".png\"):\n",
    "    prefix = folder + fname\n",
    "    with open(prefix+\"_manifest.csv\", \"w\") as f:\n",
    "        writeit = csv.writer(f)\n",
    "        writeit.writerow([\"origImg\", \"imgLoc\"])\n",
    "        for i in range(len(lb)-1):\n",
    "            if lb[i+1] - lb[i] < 5:\n",
    "                continue\n",
    "            for j in range(len(wb[i])-1):\n",
    "                if wb[i][j+1] - wb[i][j] < 5:\n",
    "                    continue\n",
    "                # write manifest entry\n",
    "                colrow = str(int(lb[i])) + \"_\" + str(int(wb[i][j]))\n",
    "                nm = prefix + \"_\" + colrow + ftype\n",
    "                writeit.writerow([fname, fname+\"_\" + colrow + ftype])\n",
    "                \n",
    "                # save chunk\n",
    "                fInd = max(i-1, 0)\n",
    "                sInd = min(i+2, len(lb))\n",
    "                chunk = img[lb[fInd]:lb[sInd],]\n",
    "                fit, ax = plt.subplots(1)\n",
    "                ax.imshow(chunk)\n",
    "                # draw segmentation lines\n",
    "                if len(cb) > 0:\n",
    "                    for k in range(len(cb[i][j])):\n",
    "                        llx = np.add(wb[i][j], cb[i][j][k])\n",
    "                        lly = lb[i]-lb[i-1]\n",
    "                        rect = Rec([llx, lly], 0, lb[i+1]-lb[i], linewidth=1,\n",
    "                                edgecolor=\"b\", facecolor=\"none\")\n",
    "                        ax.add_patch(rect)\n",
    "                # make bounding box\n",
    "                llx = wb[i][j]\n",
    "                lly = lb[i]-lb[i-1]\n",
    "                wid = wb[i][j+1]-wb[i][j]\n",
    "                hei = lb[i+1]-lb[i]\n",
    "                rect = Rec([llx, lly], wid, hei, linewidth=3,\n",
    "                           edgecolor=\"r\", facecolor=\"none\")\n",
    "                ax.add_patch(rect)\n",
    "\n",
    "                plt.gca().set_axis_off()\n",
    "                plt.subplots_adjust(top=1,bottom=0,right=1,left=0,\n",
    "                                    hspace=0,wspace=0)\n",
    "                plt.margins(0,0)\n",
    "                plt.gca().xaxis.set_major_locator(mpl.ticker.NullLocator())\n",
    "                plt.gca().yaxis.set_major_locator(mpl.ticker.NullLocator())\n",
    "                plt.savefig(nm, bbox_inches=\"tight\",\n",
    "                           pad_inches=0)\n",
    "                plt.close()"
   ]
  },
  {
   "cell_type": "code",
   "execution_count": 25,
   "metadata": {
    "collapsed": false
   },
   "outputs": [],
   "source": [
    "# save all segments to a folder\n",
    "def saveLines(img, fname, lb, folder = \"./\", ftype = \".png\"):\n",
    "    prefix = folder + fname\n",
    "    with open(prefix+\"_manifest.csv\", \"w\") as f:\n",
    "        writeit = csv.writer(f)\n",
    "        writeit.writerow([\"origImg\", \"imgLoc\"])\n",
    "        for i in range(len(lb)-1):\n",
    "            if i > 9: break\n",
    "            if lb[i+1] - lb[i] < 5:\n",
    "                continue\n",
    "            # write manifest entry\n",
    "            colrow = str(int(lb[i]))\n",
    "            nm = prefix + \"_\" + colrow + ftype\n",
    "            writeit.writerow([fname, fname+\"_\" + colrow + ftype])\n",
    "\n",
    "            # save chunk\n",
    "            fInd = max(i-1, 0)\n",
    "            sInd = min(i+2, len(lb))\n",
    "            chunk = img[lb[fInd]:lb[sInd],]\n",
    "            fit, ax = plt.subplots(1)\n",
    "            ax.imshow(chunk)\n",
    "\n",
    "            plt.gca().set_axis_off()\n",
    "            plt.subplots_adjust(top=1,bottom=0,right=1,left=0,\n",
    "                                hspace=0,wspace=0)\n",
    "            plt.margins(0,0)\n",
    "            plt.gca().xaxis.set_major_locator(mpl.ticker.NullLocator())\n",
    "            plt.gca().yaxis.set_major_locator(mpl.ticker.NullLocator())\n",
    "            plt.savefig(nm, bbox_inches=\"tight\",\n",
    "                       pad_inches=0)\n",
    "            plt.close()"
   ]
  },
  {
   "cell_type": "markdown",
   "metadata": {},
   "source": [
    "## Try scale space-gaussian approach"
   ]
  },
  {
   "cell_type": "code",
   "execution_count": 27,
   "metadata": {
    "collapsed": false
   },
   "outputs": [],
   "source": [
    "plt.show()\n",
    "\n",
    "import os\n",
    "\n",
    "folder = \"segmented_img/\"\n",
    "for the_file in os.listdir(folder):\n",
    "    file_path = os.path.join(folder, the_file)\n",
    "    try:\n",
    "        if os.path.isfile(file_path):\n",
    "            os.unlink(file_path)\n",
    "        #elif os.path.isdir(file_path): shutil.rmtree(file_path)\n",
    "    except Exception as e:\n",
    "        print(e)\n",
    "        \n",
    "folder = \"line_img/\"\n",
    "for the_file in os.listdir(folder):\n",
    "    file_path = os.path.join(folder, the_file)\n",
    "    try:\n",
    "        if os.path.isfile(file_path):\n",
    "            os.unlink(file_path)\n",
    "        #elif os.path.isdir(file_path): shutil.rmtree(file_path)\n",
    "    except Exception as e:\n",
    "        print(e)\n",
    "        "
   ]
  },
  {
   "cell_type": "code",
   "execution_count": 28,
   "metadata": {
    "collapsed": false,
    "scrolled": false
   },
   "outputs": [],
   "source": [
    "# some parameters for testing #######################################\n",
    "plotImg = False\n",
    "plotLb = False\n",
    "plotWb = False\n",
    "plotCb = False\n",
    "fname = \"images/medium1.png\"\n",
    "outFname = \"medium1\"\n",
    "\n",
    "\n",
    "# read in and do all pre-processing #################################\n",
    "let, grey = readImg(fname, plotIt=plotImg)\n",
    "let, grey = removeEdges(let, grey, rmThresh=0)\n",
    "grey = whitenEdgesProject(grey)\n",
    "greyBi = binarizeImg(grey, biThresh=\"otsu\", plotIt=plotImg)\n",
    "greySm = smoothImg(grey, smoothSigma=5.0, plotIt=plotImg)\n",
    "greyBiSm = smoothImg(greyBi, smoothSigma=5.0, plotIt=plotImg)\n",
    "\n",
    "\n",
    "# get linebreaks ####################################################\n",
    "lb = projBreaks(greyBiSm, \"y\")\n",
    "if plotLb:\n",
    "    plotBoxes(let, lb)\n",
    "\n",
    "    \n",
    "# get wordbreaks ####################################################\n",
    "wbEdge = []\n",
    "wbProj = []\n",
    "wbScale = []\n",
    "for i in range(len(lb)-1):\n",
    "    # scale space gaussian\n",
    "    chunk = greyBi[lb[i]:lb[i+1],]\n",
    "    if chunk.shape[0] <= 1:\n",
    "        wbScale.append([0, chunk.shape[1]])\n",
    "        continue\n",
    "    wbScale.append(gaussBreaks(chunk, shear=0, fix=0))#, plotIt=True))\n",
    "    \n",
    "    # edge\n",
    "    chunk = grey[lb[i]:lb[i+1],]\n",
    "    if chunk.shape[0] <= 1:\n",
    "        wbEdge.append([0, chunk.shape[1]])\n",
    "        continue\n",
    "    wbEdge.append(edgeBreaks(chunk, \"x\", cpar=[6,1,25]))\n",
    "    \n",
    "    # projection\n",
    "    chunk = greyBiSm[lb[i]:lb[i+1],]\n",
    "    if chunk.shape[0] <= 1:\n",
    "        wbEdge.append([0, chunk.shape[1]])\n",
    "        continue\n",
    "    wbProj.append(projBreaks(chunk, \"x\"))\n",
    "\n",
    "if plotWb:\n",
    "    plotBoxes(let, lb, wbScale)\n",
    "    \n",
    "\n",
    "# get character breaks ##############################################\n",
    "greySm2 = smoothImg(grey, smoothSigma=4.0, plotIt=plotImg)\n",
    "cb = []\n",
    "for i in range(len(lb)-1):\n",
    "    curb = []\n",
    "    for j in range(len(wbScale[i])-1):\n",
    "        chunk = greySm2[lb[i]:lb[i+1], wbScale[i][j]:wbScale[i][j+1]]\n",
    "        curb.append(projBreaks(chunk, \"x\"))\n",
    "    cb.append(curb)\n",
    "if plotCb:\n",
    "    plotBoxes(let, lb, wbScale, cb)\n",
    "saveLines(let, outFname+\"_line\", lb, folder = \"./line_img/\")\n",
    "# saveSegments(let, outFname, lb, wbScale, cb, folder=\"./segmented_img/\")"
   ]
  },
  {
   "cell_type": "markdown",
   "metadata": {},
   "source": [
    "# Modifying gaussian"
   ]
  },
  {
   "cell_type": "markdown",
   "metadata": {},
   "source": [
    "https://stackoverflow.com/questions/11132681/what-is-a-formula-to-get-a-vector-perpendicular-to-another-vector"
   ]
  },
  {
   "cell_type": "code",
   "execution_count": 13,
   "metadata": {
    "collapsed": true
   },
   "outputs": [],
   "source": [
    "i = 6\n",
    "chunk = grey[lb[i]:lb[i+1],]\n",
    "# nu=3.5; shear=0.6; fix=15; plotIt=True\n",
    "nu=3.5; shear=0; fix=0; plotIt=True\n",
    "# def gaussBreaks(chunk, nu=3.5, shear=0, fix=0, plotIt=True):\n",
    "# get smoothing factors\n",
    "sigYs = np.arange(1, 8, 0.3)\n",
    "sigXs = sigYs * nu\n",
    "# shear the image\n",
    "oldrg = (np.max(chunk) - np.min(chunk))\n",
    "newrg = 2\n",
    "ch2 = (((chunk - np.min(chunk)) * newrg) / oldrg) - 1\n",
    "mytf = tf.AffineTransform(shear=shear)\n",
    "chunk = tf.warp(ch2, inverse_map=mytf)"
   ]
  },
  {
   "cell_type": "code",
   "execution_count": 14,
   "metadata": {
    "collapsed": false
   },
   "outputs": [
    {
     "data": {
      "image/png": "[encoded data removed]",
      "text/plain": [
       "<matplotlib.figure.Figure at 0x7f74e44bd550>"
      ]
     },
     "metadata": {},
     "output_type": "display_data"
    }
   ],
   "source": [
    "plt.imshow(chunk, cmap=\"gray\")\n",
    "plt.show()"
   ]
  },
  {
   "cell_type": "code",
   "execution_count": 16,
   "metadata": {
    "collapsed": false
   },
   "outputs": [
    {
     "ename": "ValueError",
     "evalue": "shapes (33,659) and (2,) not aligned: 659 (dim 1) != 2 (dim 0)",
     "output_type": "error",
     "traceback": [
      "\u001b[0;31m---------------------------------------------------------------------------\u001b[0m",
      "\u001b[0;31mValueError\u001b[0m                                Traceback (most recent call last)",
      "\u001b[0;32m<ipython-input-16-52f2dfb54093>\u001b[0m in \u001b[0;36m<module>\u001b[0;34m()\u001b[0m\n\u001b[0;32m----> 1\u001b[0;31m \u001b[0mchunk\u001b[0m\u001b[0;34m.\u001b[0m\u001b[0mdot\u001b[0m\u001b[0;34m(\u001b[0m\u001b[0mnp\u001b[0m\u001b[0;34m.\u001b[0m\u001b[0marray\u001b[0m\u001b[0;34m(\u001b[0m\u001b[0;34m[\u001b[0m\u001b[0;36m0\u001b[0m\u001b[0;34m,\u001b[0m\u001b[0;36m1\u001b[0m\u001b[0;34m]\u001b[0m\u001b[0;34m)\u001b[0m\u001b[0;34m)\u001b[0m\u001b[0;34m\u001b[0m\u001b[0m\n\u001b[0m",
      "\u001b[0;31mValueError\u001b[0m: shapes (33,659) and (2,) not aligned: 659 (dim 1) != 2 (dim 0)"
     ]
    }
   ],
   "source": [
    "chunk.dot(np.array([0,1]))"
   ]
  },
  {
   "cell_type": "code",
   "execution_count": null,
   "metadata": {
    "collapsed": true
   },
   "outputs": [],
   "source": [
    "# choose which smoothing factor to use based on minimizing\n",
    "# the white space\n",
    "extents = []\n",
    "count = 0\n",
    "for j in range(len(sigYs)):\n",
    "    filt = gf(input=chunk, sigma=(sigYs[j],sigXs[j]), order=0)\n",
    "    if count < 2:\n",
    "        th = filters.threshold_otsu(filt)\n",
    "        count += 1\n",
    "    binfilt = binarizeImg(filt, th)\n",
    "    extents.append(np.sum(binfilt))\n",
    "j = np.argmin(extents)\n",
    "\n",
    "filt = ndimage.filters.gaussian_filter(input=chunk, sigma=(sigYs[j],sigXs[j]))\n",
    "binfilt = 1 - binarizeImg(filt, th)\n",
    "\n",
    "# find connect components\n",
    "labels, nrObj = ndimage.label(binfilt)\n",
    "osli = ndimage.find_objects(labels)"
   ]
  },
  {
   "cell_type": "code",
   "execution_count": null,
   "metadata": {
    "collapsed": true
   },
   "outputs": [],
   "source": [
    "# find the word boxes\n",
    "rec = []\n",
    "bounds = []\n",
    "sh = np.max(labels.shape)\n",
    "for sl in osli:\n",
    "    sl0 = sl[0].indices(sh)\n",
    "    sl1 = sl[1].indices(sh)\n",
    "\n",
    "    xLeng = sl1[1]-sl1[0]\n",
    "    yLeng = sl0[1]-sl0[0]\n",
    "    if xLeng*yLeng > 100:\n",
    "        bounds.append([sl1[0], sl1[1]])\n",
    "        rec.append([[sl1[0], sl0[0]], xLeng, yLeng])\n",
    "\n",
    "# combine those that are surrounded by others\n",
    "bounds = sorted(bounds)"
   ]
  },
  {
   "cell_type": "code",
   "execution_count": null,
   "metadata": {
    "collapsed": false
   },
   "outputs": [],
   "source": [
    "bounds"
   ]
  },
  {
   "cell_type": "code",
   "execution_count": null,
   "metadata": {
    "collapsed": true
   },
   "outputs": [],
   "source": [
    "newbounds = []\n",
    "skipnext = False\n",
    "bPrev = bounds[0]\n",
    "for i in range(1, len(bounds)):\n",
    "    bCur = bounds[i]\n",
    "    if bPrev[1] > bCur[0]:\n",
    "        bPrev = [bPrev[0], bCur[1]]\n",
    "    else:\n",
    "        newbounds.append(bPrev)\n",
    "        bPrev = [x for x in bCur]\n",
    "newbounds.append(bPrev)"
   ]
  },
  {
   "cell_type": "code",
   "execution_count": null,
   "metadata": {
    "collapsed": false
   },
   "outputs": [],
   "source": [
    "newbounds"
   ]
  },
  {
   "cell_type": "code",
   "execution_count": null,
   "metadata": {
    "collapsed": false
   },
   "outputs": [],
   "source": [
    "wbLine = [0]\n",
    "for i in range(1, len(newbounds)):\n",
    "    b1 = newbounds[i-1]\n",
    "    b2 = newbounds[i]\n",
    "    wbLine.append(np.mean([b1[1], b2[0]])-fix)\n",
    "wbLine.append(b2[1])\n",
    "wbLine.append(chunk.shape[1])\n",
    "\n",
    "# plot connected components\n",
    "if plotIt:\n",
    "    fit,ax = plt.subplots(1)\n",
    "    ax.imshow(labels, cmap='nipy_spectral')\n",
    "    for i in range(len(rec)):\n",
    "        rect = mpl.patches.Rectangle(rec[i][0], rec[i][1], rec[i][2], linewidth=1, edgecolor=\"r\", facecolor=\"none\")\n",
    "        ax.add_patch(rect)\n",
    "    plt.show()\n",
    "\n",
    "# return np.array(wbLine).astype(\"int\")"
   ]
  },
  {
   "cell_type": "markdown",
   "metadata": {},
   "source": [
    "## Testing out gaussian approach"
   ]
  },
  {
   "cell_type": "code",
   "execution_count": null,
   "metadata": {
    "collapsed": true
   },
   "outputs": [],
   "source": [
    "# function parameters\n",
    "i = 4 # pretending that we're on line i\n",
    "chunk = grey[lb[i]:lb[i+1],]\n",
    "\n",
    "nu=3.5\n",
    "shear=0.6\n",
    "fix=15\n",
    "plotIt=False"
   ]
  },
  {
   "cell_type": "code",
   "execution_count": null,
   "metadata": {
    "collapsed": true
   },
   "outputs": [],
   "source": [
    "# get smoothing factors\n",
    "sigYs = np.arange(1, 8, 0.3)\n",
    "sigXs = sigYs * nu\n",
    "# rescale the image\n",
    "oldrg = (np.max(chunk) - np.min(chunk))\n",
    "newrg = 2\n",
    "ch2 = (((chunk - np.min(chunk)) * newrg) / oldrg) - 1\n",
    "# shear the image\n",
    "mytf = tf.AffineTransform(shear=shear)\n",
    "chunk = tf.warp(ch2, inverse_map=mytf)\n",
    "\n",
    "# choose which smoothing factor to use based on minimizing\n",
    "# the white space\n",
    "extents = []\n",
    "count = 0\n",
    "for j in range(len(sigYs)):\n",
    "    filt = gf(input=chunk, sigma=(sigYs[j],sigXs[j]), order=0)\n",
    "    if count < 2:\n",
    "        th = filters.threshold_otsu(filt)\n",
    "        count += 1\n",
    "    binfilt = binarizeImg(filt, th)\n",
    "    extents.append(np.sum(binfilt))\n",
    "j = np.argmin(extents)\n",
    "\n",
    "filt = ndimage.filters.gaussian_filter(input=chunk, sigma=(sigYs[j],sigXs[j]))\n",
    "binfilt = 1 - binarizeImg(filt, th)\n",
    "\n",
    "# find connect components\n",
    "labels, nrObj = ndimage.label(binfilt)\n",
    "osli = ndimage.find_objects(labels)\n",
    "\n",
    "# find the word boxes\n",
    "rec = []\n",
    "bounds = []\n",
    "sh = np.max(labels.shape)\n",
    "for sl in osli:\n",
    "    sl0 = sl[0].indices(sh)\n",
    "    sl1 = sl[1].indices(sh)\n",
    "\n",
    "    xLeng = sl1[1]-sl1[0]\n",
    "    yLeng = sl0[1]-sl0[0]\n",
    "    if xLeng*yLeng > 100:\n",
    "        bounds.append([sl1[0], sl1[1]])\n",
    "        rec.append([[sl1[0], sl0[0]], xLeng, yLeng])\n",
    "# combine those that are surrounded by others\n",
    "bounds = sorted(bounds)\n",
    "newbounds = []\n",
    "bPrev = bounds[0]\n",
    "for i in range(1, len(bounds)):\n",
    "    bCur = bounds[i]\n",
    "    if bPrev[1] > bCur[0]:\n",
    "        bPrev = [bPrev[0], bCur[1]]\n",
    "    else:\n",
    "        newbounds.append(bPrev)\n",
    "        bPrev = bCur\n",
    "newbounds.append(bPrev)\n",
    "wbLine = [0]\n",
    "for i in range(1, len(newbounds)):\n",
    "    b1 = newbounds[i-1]\n",
    "    b2 = newbounds[i]\n",
    "    wbLine.append(np.mean([b1[1], b2[0]])-fix)\n",
    "wbLine.append(chunk.shape[1])\n",
    "\n",
    "# plot connected components\n",
    "if plotIt:\n",
    "    fit,ax = plt.subplots(1)\n",
    "    ax.imshow(labels, cmap='nipy_spectral')\n",
    "    for i in range(len(rec)):\n",
    "        rect = mpl.patches.Rectangle(rec[i][0], rec[i][1], rec[i][2], linewidth=1, edgecolor=\"r\", facecolor=\"none\")\n",
    "        ax.add_patch(rect)\n",
    "    plt.show()\n",
    "\n",
    "# return np.array(wbLine).astype(\"int\")"
   ]
  }
 ],
 "metadata": {
  "anaconda-cloud": {},
  "kernelspec": {
   "display_name": "Python [conda root]",
   "language": "python",
   "name": "conda-root-py"
  },
  "language_info": {
   "codemirror_mode": {
    "name": "ipython",
    "version": 2
   },
   "file_extension": ".py",
   "mimetype": "text/x-python",
   "name": "python",
   "nbconvert_exporter": "python",
   "pygments_lexer": "ipython2",
   "version": "2.7.12"
  }
 },
 "nbformat": 4,
 "nbformat_minor": 1
}
